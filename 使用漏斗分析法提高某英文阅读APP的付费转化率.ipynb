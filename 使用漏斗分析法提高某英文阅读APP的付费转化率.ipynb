{
 "cells": [
  {
   "cell_type": "markdown",
   "id": "bdee27e1",
   "metadata": {},
   "source": [
    "# 使用漏斗分析法提高某英文阅读APP的付费转化率"
   ]
  },
  {
   "cell_type": "markdown",
   "id": "83f33ed0",
   "metadata": {},
   "source": [
    "### 概要"
   ]
  },
  {
   "cell_type": "markdown",
   "id": "2278f13e",
   "metadata": {},
   "source": [
    "每一个环节都只会有部分用户走到下一个环节，走到的我们称为转化，没有走到的我们称为流失，这一系列环节就像一层层漏斗一样。对应的，我们将一层一层分析转化的方法称为**漏斗（Funnel）分析法**。\n",
    "\n",
    "我发现，该阅读APP登录的新用户不少，但是购买的人很少，通过漏斗分析法，我们想要发现究竟在哪几层转化特别低值得优先改善。特别的，改善某一层转化的时候，我也只要把焦点集中在对应这一层的产品交互环节，有的放矢。\n",
    "\n",
    "**目标**是通过 Python 和数据分析，不断迭代产品，并且优化 AAARR 增长模型的每一个环节，让产品用户量和收入齐涨。"
   ]
  },
  {
   "cell_type": "code",
   "execution_count": 1,
   "id": "25177592",
   "metadata": {},
   "outputs": [],
   "source": [
    "import numpy as np\n",
    "import pandas as pd\n",
    "import matplotlib.pyplot as plt"
   ]
  },
  {
   "cell_type": "markdown",
   "id": "e32f7d43",
   "metadata": {},
   "source": [
    "### 1. 导入数据"
   ]
  },
  {
   "cell_type": "code",
   "execution_count": 2,
   "id": "ad9020c4",
   "metadata": {},
   "outputs": [],
   "source": [
    "# 活跃用户ID\n",
    "active_uids = np.genfromtxt('https://media-zip1.baydn.com/storage_media_zip/qkklny/22f0e6eaefcfb277176d59e8125cf505.f75f6a24bf8052409e4a0ca5b52c951a.csv')\n",
    "# 进入书籍页面的ID\n",
    "enterbook_uids = np.genfromtxt('https://media-zip1.baydn.com/storage_media_zip/qkklny/aa3af5c54faea4567e02056fb96f0d09.d6312693cb816c2454eba79e46d9ba8c.csv')\n",
    "# 试读用户的ID\n",
    "trial_uids = np.genfromtxt('https://media-zip1.baydn.com/storage_media_zip/qkklny/91b8b8a4df4f78b7ebae222cef306f9a.5a61749229d5f45c8a3336815ab0552c.csv')\n",
    "# 购书用户的ID\n",
    "paid_uids = np.genfromtxt('https://media-zip1.baydn.com/storage_media_zip/qkklny/8e25e9bffcce021c90335ec6900efb4b.28080b0032a0f39617346f4eead7f548.csv')"
   ]
  },
  {
   "cell_type": "code",
   "execution_count": 3,
   "id": "9e12b2aa",
   "metadata": {},
   "outputs": [
    {
     "name": "stdout",
     "output_type": "stream",
     "text": [
      "[148965. 193031. 194602. 119084. 136835. 110552. 122889. 153654. 151149.\n",
      " 182500.]\n"
     ]
    }
   ],
   "source": [
    "print(active_uids[:10])"
   ]
  },
  {
   "cell_type": "markdown",
   "id": "4d5923bc",
   "metadata": {},
   "source": [
    "### 2. 数据处理"
   ]
  },
  {
   "cell_type": "code",
   "execution_count": 4,
   "id": "65b119ab",
   "metadata": {},
   "outputs": [],
   "source": [
    "# 获取每个文件内容的长度\n",
    "num_active_uids = len(active_uids)\n",
    "num_enterbook_uids = len(enterbook_uids)\n",
    "num_trial_uids = len(trial_uids)\n",
    "num_paid_uids = len(paid_uids)"
   ]
  },
  {
   "cell_type": "code",
   "execution_count": 5,
   "id": "4c41f31e",
   "metadata": {},
   "outputs": [
    {
     "name": "stdout",
     "output_type": "stream",
     "text": [
      "活跃用户数：9753\n",
      "打开书籍页面用户数：1359\n",
      "试读用户数：973\n",
      "购书用户数：149\n"
     ]
    }
   ],
   "source": [
    "print(\"活跃用户数：%d\" % num_active_uids)\n",
    "print(\"打开书籍页面用户数：%d\" % num_enterbook_uids)\n",
    "print(\"试读用户数：%d\" % num_trial_uids)\n",
    "print(\"购书用户数：%d\" % num_paid_uids)"
   ]
  },
  {
   "cell_type": "code",
   "execution_count": 6,
   "id": "4b4eb411",
   "metadata": {},
   "outputs": [
    {
     "data": {
      "image/png": "[encoded data removed]",
      "text/plain": [
       "<Figure size 432x288 with 1 Axes>"
      ]
     },
     "metadata": {
      "needs_background": "light"
     },
     "output_type": "display_data"
    }
   ],
   "source": [
    "# 绘制一个柱状图的漏斗\n",
    "x = ['active', 'enter book', 'trial', 'paid']\n",
    "y = [num_active_uids, num_enterbook_uids, num_trial_uids, num_paid_uids]\n",
    "plt.bar(x, y)\n",
    "plt.show()"
   ]
  },
  {
   "cell_type": "markdown",
   "id": "b8b3358b",
   "metadata": {},
   "source": [
    "根据图表，发现从试读到购买的转化率不高。但是实际上有两个购买的入口，一个和试读并列，另一个是试读一章的末尾。也就是说，其实存在两条不同的购买转化路径，需要分别分析。\n",
    "\n",
    "首先，分析那些进入书籍页，没有试读而直接购买的用户。经过试读再购买的用户 ID，一定同时属于试读用户的 ID，也属于购买用户的 ID。"
   ]
  },
  {
   "cell_type": "code",
   "execution_count": 7,
   "id": "58b8d996",
   "metadata": {},
   "outputs": [
    {
     "name": "stdout",
     "output_type": "stream",
     "text": [
      "有22位用户先试读后再购书\n"
     ]
    }
   ],
   "source": [
    "# 将列表转化为集合，并找出交集\n",
    "trial_uids_set = set(trial_uids)\n",
    "paid_uids_set = set(paid_uids)\n",
    "\n",
    "paid_with_trial_uids = trial_uids_set.intersection(paid_uids_set)\n",
    "num_paid_with_trial_uids = len(paid_with_trial_uids)\n",
    "\n",
    "print(\"有%d位用户先试读后再购书\" % num_paid_with_trial_uids)"
   ]
  },
  {
   "cell_type": "code",
   "execution_count": 8,
   "id": "3b82a4e4",
   "metadata": {},
   "outputs": [
    {
     "name": "stdout",
     "output_type": "stream",
     "text": [
      "有114位用户没有试读就购书\n"
     ]
    }
   ],
   "source": [
    "# 寻找没有试读就购买的用户\n",
    "trial_uids_set = set(trial_uids)\n",
    "paid_uids_set = set(paid_uids)\n",
    "paid_with_trial_uids = trial_uids_set & paid_uids_set\n",
    "\n",
    "paid_without_trial_uids = paid_uids_set.difference(trial_uids_set)\n",
    "num_paid_without_trial_uids = len(paid_without_trial_uids)\n",
    "\n",
    "print(\"有%d位用户没有试读就购书\" % num_paid_without_trial_uids)"
   ]
  },
  {
   "cell_type": "code",
   "execution_count": 9,
   "id": "8e8df2c9",
   "metadata": {},
   "outputs": [
    {
     "data": {
      "image/png": "[encoded data removed]",
      "text/plain": [
       "<Figure size 432x288 with 1 Axes>"
      ]
     },
     "metadata": {
      "needs_background": "light"
     },
     "output_type": "display_data"
    }
   ],
   "source": [
    "# 按照两个不同的路径，分别绘出两个漏斗\n",
    "# 漏斗一：用户经过 进入书籍页面-试读书籍-试读后购买 三步。\n",
    "x = ['Enter Book', 'Trial', 'Trial Then Paid']\n",
    "nums = [num_enterbook_uids, num_trial_uids, num_paid_with_trial_uids]\n",
    "plt.bar(x, nums)\n",
    "plt.show()"
   ]
  },
  {
   "cell_type": "code",
   "execution_count": 10,
   "id": "55384396",
   "metadata": {},
   "outputs": [
    {
     "data": {
      "image/png": "[encoded data removed]",
      "text/plain": [
       "<Figure size 432x288 with 1 Axes>"
      ]
     },
     "metadata": {
      "needs_background": "light"
     },
     "output_type": "display_data"
    }
   ],
   "source": [
    "# 漏斗二：用户经过 进入书籍页面-直接购买 两步。\n",
    "x = ['Enter Book', 'Paid Without Trial']\n",
    "nums = [num_enterbook_uids, num_paid_without_trial_uids]\n",
    "plt.bar(x, nums)\n",
    "plt.show()"
   ]
  },
  {
   "cell_type": "code",
   "execution_count": 11,
   "id": "53e22d5d",
   "metadata": {},
   "outputs": [
    {
     "data": {
      "image/png": "[encoded data removed]",
      "text/plain": [
       "<Figure size 432x288 with 1 Axes>"
      ]
     },
     "metadata": {
      "needs_background": "light"
     },
     "output_type": "display_data"
    }
   ],
   "source": [
    "# 漏斗三：结合上述两个漏斗\n",
    "x = ['Enter Book', 'Trial Or Pay', 'Trial Then Pay']\n",
    "nums_enter_book = [num_enterbook_uids, 0, 0]\n",
    "plt.bar(x, nums_enter_book)\n",
    "\n",
    "nums_trial = [0, num_trial_uids, num_paid_with_trial_uids]\n",
    "plt.bar(x, nums_trial, label='Trial')\n",
    "\n",
    "nums_without_trial = [0, num_paid_without_trial_uids, 0]\n",
    "plt.bar(x, nums_without_trial, label='Pay Without Trial')\n",
    "\n",
    "plt.legend()\n",
    "plt.show()"
   ]
  },
  {
   "cell_type": "markdown",
   "id": "4b05cb5a",
   "metadata": {},
   "source": [
    "在漏斗的第二层，也就是对应用户进入书籍页的第二步，绝大部分（973）用户选择了试读，少部分（114）用户选择了直接购买；但是试读用户后续只有 22 位购书，也就是说，经过试读的用户再购书的数量和转换，远远小于那些一进书籍页直接买书的用户。\n",
    "\n",
    "于是，我就产生了一个思考——试读究竟有没有用？如果取消会怎样，是否会增加？\n",
    "\n",
    "如果我决定先取消试读功能，然后观察和比较购买转化率，这个结果很可能不客观。因为外部环境是随时间不断发生变化的，如果在不同的日期做实验，即便结果上有差别，那么我们很难解释这个差别是因为我们在 APP 上的更改导致，还是因为日期本身导致，因为不同的日期（譬如周末、节假日、双十一）对用户消费行为是会产生影响的。所以我决定进行一次 AB 测试。\n",
    "\n",
    "经过一天的AB测试后，得到了以下数据。"
   ]
  },
  {
   "cell_type": "markdown",
   "id": "3899e161",
   "metadata": {},
   "source": [
    "### 3. 对比AB测试"
   ]
  },
  {
   "cell_type": "code",
   "execution_count": 12,
   "id": "15ca514c",
   "metadata": {},
   "outputs": [],
   "source": [
    "# A组活跃用户ID\n",
    "active_uids_A = np.genfromtxt('https://media-zip1.baydn.com/storage_media_zip/qkklny/4b656482b421cf8b7fe1320f33a11366.0f9ce2db4545294838c80f03bd1cc748.csv')\n",
    "# A组进入书籍页面用户ID\n",
    "enterbook_uids_A = np.genfromtxt('https://media-zip1.baydn.com/storage_media_zip/qkklny/509ccfddd9527cc94754747fd39cbdd1.898797608e8ea3b0effd3fd8cad55c97.csv')\n",
    "# A组试读用户ID\n",
    "trial_uids_A = np.genfromtxt('https://media-zip1.baydn.com/storage_media_zip/qkklny/265bbd609edcf2285e88e4ab2bf7543c.68864954d8f79cbfbba24e7dad149948.csv')\n",
    "# A组购书用户ID\n",
    "paid_uids_A = np.genfromtxt('https://media-zip1.baydn.com/storage_media_zip/qkklny/3bffb08b0a96eeae9a09ecf9f7f32cce.7d638e84fea03325ced8c19d6efd7c5e.csv')\n",
    "\n",
    "# B组活跃用户ID\n",
    "active_uids_B = np.genfromtxt('https://media-zip1.baydn.com/storage_media_zip/qkklny/c40f6b08d77a11349b69d06e2ca19d58.3578e85cdc7b1db8b1d240ae5a2ac86b.csv')\n",
    "# B组进入书籍页面用户ID\n",
    "enterbook_uids_B = np.genfromtxt('https://media-zip1.baydn.com/storage_media_zip/qkklny/46a3c26c42c91b1d91ea932c375982de.92fc2cb19ade30aaa8b98ecc1ed2856f.csv')\n",
    "# B组购书用户ID\n",
    "paid_uids_B = np.genfromtxt('https://media-zip1.baydn.com/storage_media_zip/qkklny/0a7e5bc8e4cad60375afa9e6b6ced0c8.a8ae7b8063542ee3efe8a66c00c97b9e.csv')"
   ]
  },
  {
   "cell_type": "code",
   "execution_count": 13,
   "id": "d671e546",
   "metadata": {},
   "outputs": [],
   "source": [
    "num_active_uids_A = len(active_uids_A)\n",
    "num_enterbook_uids_A = len(enterbook_uids_A)\n",
    "num_trial_uids_A = len(trial_uids_A )\n",
    "num_paid_uids_A = len(paid_uids_A)\n",
    "num_active_uids_B = len(active_uids_B)\n",
    "num_enterbook_uids_B = len(enterbook_uids_B)\n",
    "num_paid_uids_B = len(paid_uids_B)"
   ]
  },
  {
   "cell_type": "code",
   "execution_count": 14,
   "id": "426e9d8f",
   "metadata": {},
   "outputs": [
    {
     "name": "stdout",
     "output_type": "stream",
     "text": [
      "A组数据\n",
      "-----------\n",
      "活跃用户数：5000\n",
      "打开书籍页面用户数：753\n",
      "试读用户数：473\n",
      "购书用户数：74\n",
      "    \n",
      "B组数据\n",
      "-----------\n",
      "活跃用户数：5000\n",
      "打开书籍页面用户数：749\n",
      "购书用户数：128\n"
     ]
    }
   ],
   "source": [
    "print(\"A组数据\")\n",
    "print(\"-----------\")\n",
    "print(\"活跃用户数：%d\" % num_active_uids_A)\n",
    "print(\"打开书籍页面用户数：%d\" % num_enterbook_uids_A)\n",
    "print(\"试读用户数：%d\" % num_trial_uids_A)\n",
    "print(\"购书用户数：%d\" % num_paid_uids_A)\n",
    "print(\"    \")\n",
    "print(\"B组数据\")\n",
    "print(\"-----------\")\n",
    "print(\"活跃用户数：%d\" % num_active_uids_B)\n",
    "print(\"打开书籍页面用户数：%d\" % num_enterbook_uids_B)\n",
    "print(\"购书用户数：%d\" % num_paid_uids_B)"
   ]
  },
  {
   "cell_type": "markdown",
   "id": "b84546d0",
   "metadata": {},
   "source": [
    "B 组没有试读环节，也就是比 A 组少一个数，我创造一个 num_trial_uids_B 变量，让它数值为 0"
   ]
  },
  {
   "cell_type": "code",
   "execution_count": 15,
   "id": "d0c476ef",
   "metadata": {},
   "outputs": [
    {
     "data": {
      "image/png": "[encoded data removed]",
      "text/plain": [
       "<Figure size 432x288 with 1 Axes>"
      ]
     },
     "metadata": {
      "needs_background": "light"
     },
     "output_type": "display_data"
    }
   ],
   "source": [
    "num_trial_uids_B = 0\n",
    "\n",
    "labels = ['Enter Book', 'Trial', 'Pay']\n",
    "data_A = [num_enterbook_uids_A, num_trial_uids_A, num_paid_uids_A]\n",
    "data_B = [num_enterbook_uids_B, num_trial_uids_B, num_paid_uids_B]\n",
    "\n",
    "x = np.arange(len(labels))  # 标签位置\n",
    "width = 0.35  # 每条柱的宽度\n",
    "plt.bar(x - width/2, data_A, width, label='A')\n",
    "plt.bar(x + width/2, data_B, width, label='B')\n",
    "\n",
    "# 添加漏斗名称和标签名称\n",
    "plt.xticks(x, labels)\n",
    "# 添加图例\n",
    "plt.legend()\n",
    "plt.show()"
   ]
  },
  {
   "cell_type": "markdown",
   "id": "19dbaed5",
   "metadata": {},
   "source": [
    "可以发现在进入书籍页这一层，A、B 两组的数据是差不多的，因为我的实验是针对书籍页面内部的试读按钮，并不会影响用户从书籍首页进入书籍页的判断，因为此时他们看不到书籍页面长什么样。\n",
    "\n",
    "我们同时可以看到 B 组支付的数据是显著高于 A 组的。因此得出结论，取消了试读后，该阅读APP的销量会更好。\n",
    "\n",
    "谨慎起见，我将这个 AB 测试持续了一周，发现每天的结果都和第一天一样，那么我们对实验结果的有效性充满了信心。所以我们的工作是有效的。"
   ]
  },
  {
   "cell_type": "markdown",
   "id": "14313388",
   "metadata": {},
   "source": [
    "### 4. 分组分析"
   ]
  },
  {
   "cell_type": "markdown",
   "id": "01d0fb3d",
   "metadata": {},
   "source": [
    "虽然数据验证了取消试读后用户反而更愿意购买，但是这背后的原因还需要进一步探索。例如包括豆瓣阅读、微信读书在内的主流阅读软件都有试读功能，显然试读的存在有它的意义。\n",
    "\n",
    "所以，如果想要理解为什么在该阅读APP中试读的用户相比于不试读的用户更不愿意购买，就必须分析试读的这部分用户的行为和数据。\n",
    "\n",
    "用户开始试读后，第一次进入书籍阅读页面后，有以下三种可能的行为：读书、下一页、退出阅读。因此，我发现一个问题：下一页、退出阅读都是对应具体的按钮，程序可以检测用户有没有点击这两个按钮，但是用户有没有读书，我该如何获取信息？\n",
    "\n",
    "最后，我发现我不能直接知道用户有没有在读书，但是可以知道用户花了多少时间停留在这个阅读界面上。除去极少数例外，用户停留的时间越长，越有可能在读书。\n",
    "\n",
    "所以我找到了试读用户在进入阅读页面的停留时间数据，而且这一次，我决定不要所有用户在所有书籍的试读数据，而是指定了一本书《小王子》。因为不同书的难度是不一样的，用户的英语阅读能力也不一样，有些书第一页读完只要 3 分钟，有些就要 15 分钟，那么放在一起比较就很难看出问题。\n",
    "\n",
    "所以我选择《小王子》，一来根据我们已经掌握的销售数据，这本书的试读人数和购买人数都不少，二来这本书的难度适宜，所以将它作为研究对象。\n",
    "\n",
    "以下是过去一周，，所有《小王子》的试读数据。"
   ]
  },
  {
   "cell_type": "code",
   "execution_count": 16,
   "id": "024ab320",
   "metadata": {},
   "outputs": [
    {
     "name": "stdout",
     "output_type": "stream",
     "text": [
      "   user_id  time_stay  next_page  quit_trial  finish_trial    pay\n",
      "0   125777         26       True       False         False  False\n",
      "1   116871         37      False        True         False  False\n",
      "2   151189         41       True       False         False  False\n",
      "3   122393         33      False        True         False  False\n",
      "4   141494         10      False        True         False  False\n"
     ]
    }
   ],
   "source": [
    "prince_trial = 'https://media-zip1.baydn.com/storage_media_zip/qkklny/7e8e1941cb36ad97cbaa6eed0dff441e.cd58f0dcbe18f95e2b1912dbd63a4e67.csv'\n",
    "df = pd.read_csv(prince_trial)\n",
    "print(df.head())"
   ]
  },
  {
   "cell_type": "code",
   "execution_count": 17,
   "id": "6bd45071",
   "metadata": {},
   "outputs": [
    {
     "data": {
      "image/png": "[encoded data removed]",
      "text/plain": [
       "<Figure size 432x288 with 1 Axes>"
      ]
     },
     "metadata": {
      "needs_background": "light"
     },
     "output_type": "display_data"
    }
   ],
   "source": [
    "# 绘制直方图\n",
    "plt.hist(df['time_stay'], bins=10, facecolor=\"blue\", edgecolor=\"black\", alpha=0.7)\n",
    "plt.xlabel(\"Time Staying\")\n",
    "plt.ylabel(\"Number of Users\")\n",
    "plt.show()"
   ]
  },
  {
   "cell_type": "markdown",
   "id": "9913cc52",
   "metadata": {},
   "source": [
    "可以发现，绝大部分试读用户在第一页的停留时间，不超过 30 秒，如果不超过 30 秒，很显然是读不完一页内容的，他们点击下一页的可能性应该也不大。\n",
    "\n",
    "为了验证这个猜想，我们将用户分成两组，一组阅读时间在 30 秒及以下，另一组在 30 秒以上，分别观察点击下一页的比例是多少。"
   ]
  },
  {
   "cell_type": "code",
   "execution_count": 18,
   "id": "d212c373",
   "metadata": {},
   "outputs": [
    {
     "name": "stdout",
     "output_type": "stream",
     "text": [
      "阅读时间在30秒及以下，总人数为1134，点击下一页的人数为9，比例为1%\n",
      "阅读时间在30秒以上，总人数为188，点击下一页的人数为64，比例为34%\n"
     ]
    }
   ],
   "source": [
    "# 从所有数据中查找 time_stay 字段的值小于等于 30 的数据记录\n",
    "under_30 = df[df['time_stay'] <= 30]\n",
    "\n",
    "# 从所有数据中查找 time_stay 字段的值大 30 的数据记录\n",
    "above_30 = df[df['time_stay'] > 30]\n",
    "\n",
    "# 记录两组人数\n",
    "num_under_30 = len(under_30)\n",
    "num_above_30 = len(above_30)\n",
    "\n",
    "# 从两组中查找点击下一页为 True 的数据记录（ == True 可以省略）\n",
    "under_30_and_next_page = under_30[under_30['next_page']]\n",
    "above_30_and_next_page = above_30[above_30['next_page']]\n",
    "\n",
    "num_under_30_and_next_page = len(under_30_and_next_page)\n",
    "num_above_30_and_next_page = len(above_30_and_next_page)\n",
    "\n",
    "ratio_under_30_and_next_page = num_under_30_and_next_page / num_under_30\n",
    "ratio_above_30_and_next_page = num_above_30_and_next_page / num_above_30\n",
    "\n",
    "print(\"阅读时间在30秒及以下，总人数为%d，点击下一页的人数为%d，比例为%.0f%%\" %\n",
    "  (num_under_30, num_under_30_and_next_page, 100 * ratio_under_30_and_next_page))\n",
    "print(\"阅读时间在30秒以上，总人数为%d，点击下一页的人数为%d，比例为%.0f%%\" %\n",
    "  (num_above_30, num_above_30_and_next_page, 100 * ratio_above_30_and_next_page))"
   ]
  },
  {
   "cell_type": "code",
   "execution_count": 27,
   "id": "6e787cc9",
   "metadata": {},
   "outputs": [
    {
     "name": "stdout",
     "output_type": "stream",
     "text": [
      "阅读时间在30秒及以下，总人数为1134, 购买的人数为41，比例为4%\n",
      "阅读时间在30秒以上，总人数为188, 购买的人数为18，比例为10%\n"
     ]
    }
   ],
   "source": [
    "# 验证购买的比例也和阅读时间存在关联的猜想\n",
    "# 从所有数据中查找 time_stay 字段的值小于等于 30 的数据\n",
    "under_30 = df[df['time_stay'] <= 30]\n",
    "\n",
    "# 从所有数据中查找 time_stay 字段的值大 30 的数据\n",
    "above_30 = df[df['time_stay'] > 30]\n",
    "\n",
    "# 记录两组人数\n",
    "num_under_30 = len(under_30)\n",
    "num_above_30 = len(above_30)\n",
    "\n",
    "# 从两组中查找已购买的数据，也就是 pay 字段的值为 True 的数据\n",
    "under_30_and_pay = under_30[under_30['pay']]\n",
    "above_30_and_pay = above_30[above_30['pay']]\n",
    "\n",
    "num_under_30_and_pay = len(under_30_and_pay)\n",
    "num_above_30_and_pay = len(above_30_and_pay)\n",
    "\n",
    "ratio_under_30_and_pay = num_under_30_and_pay / num_under_30\n",
    "ratio_above_30_and_pay = num_above_30_and_pay / num_above_30\n",
    "\n",
    "print(\"阅读时间在30秒及以下，总人数为%d, 购买的人数为%d，比例为%.0f%%\" %\n",
    "  (num_under_30, num_under_30_and_pay, 100 * ratio_under_30_and_pay))\n",
    "print(\"阅读时间在30秒以上，总人数为%d, 购买的人数为%d，比例为%.0f%%\" %\n",
    "  (num_above_30, num_above_30_and_pay, 100 * ratio_above_30_and_pay))"
   ]
  },
  {
   "cell_type": "markdown",
   "id": "03cc4adc",
   "metadata": {},
   "source": [
    "通过结果，已经发现了阅读时间和用户是否点下一页，乃至和购买之间的相关关系。但是，我们并不可以说，只要让用户阅读时间变长，就能最终增加购买。"
   ]
  },
  {
   "cell_type": "markdown",
   "id": "b4f84eb5",
   "metadata": {},
   "source": [
    "### 5. 相关性和因果性"
   ]
  },
  {
   "cell_type": "markdown",
   "id": "bd176c2d",
   "metadata": {},
   "source": [
    "数据科学里有一条非常重要的原则：相关性不代表因果性。譬如说，一家超市发现冰激凌和空调的销售量之间存在相关关系，并不代表超市想办法增加冰激凌销量，就能相应增加空调销量。因为夏天到了天气炎热才是这两者销量同时上升的原因。\n",
    "\n",
    "在我们的产品里，很可能有一个因素，会同时导致用户阅读时间短，以及不愿意购买。\n",
    "\n",
    "这时候，我们又想到，该阅读APP和豆瓣阅读或者微信读书有一个非常本质的区别，就是该阅读APP主打英文阅读，而其他读书 APP 上的内容主要都是中文。用户看不懂一本中文书的主要原因是因为内容太复杂或者晦涩，而看不懂英文书则很可能是因为英语能力不够。\n",
    "\n",
    "所以说，那么多放弃的用户，是不是因为虽然想读英文版的小王子，但是真的去读了，发现自己的英语能力不够所以直接放弃。要验证这点，要么能够找到足够多的用户去做问卷调查和访谈，要么在产品里直接询问用户。\n",
    "\n",
    "于是我们在用户点返回的环节上，做了一个弹窗，询问用户为什么放弃，是对内容本身不感兴趣，还是觉得太难，还是两者都有，或者都不是。\n",
    "\n",
    "搜集了两天的数据，总共收到了 1167 份有效反馈。其中，因为**不感兴趣**而选择退出的有138人，因为**看不懂英文**而退出的有792人，因为**两者都是**退出的有113人，因为**其他原因**而退出的有124人。"
   ]
  },
  {
   "cell_type": "code",
   "execution_count": 19,
   "id": "f158ab03",
   "metadata": {},
   "outputs": [
    {
     "data": {
      "image/png": "[encoded data removed]",
      "text/plain": [
       "<Figure size 432x288 with 1 Axes>"
      ]
     },
     "metadata": {},
     "output_type": "display_data"
    }
   ],
   "source": [
    "# 数据准备\n",
    "labels = ['Not Interested', 'Don\\'t Understand', 'Both', 'Neither']\n",
    "data = [138, 792, 113, 124]\n",
    "\n",
    "colors = ['gold', 'yellowgreen', 'lightcoral', 'lightskyblue']\n",
    "explode = (0, 0.1, 0, 0)  # 让面积最大的部分分离出来一些，增强效果\n",
    "plt.pie(data, explode=explode, labels=labels, colors=colors,\n",
    "autopct='%1.1f%%', shadow=True, startangle=140)\n",
    "plt.show()"
   ]
  },
  {
   "cell_type": "markdown",
   "id": "59539582",
   "metadata": {},
   "source": [
    "现在我可以确认了，之前 AB 测试中，A 组中选择了试读的大部分用户，的确是因为在试读阶段发现看不懂就草草放弃了；而 B 组的用户因为没有试读机会，很多本来看不懂的用户并不知道自己看不懂，于是先买了再说。而中文书阅读 APP 为什么可以大大方方的提供试读功能，是因为试读后因为看不懂就放弃购买的可能性不大。\n",
    "\n",
    "所以，我们完整的经历了一个发现问题、提出假设、试验分析、提出方案的过程。在这个过程中，数据分析发挥了不可或缺但是并非唯一的作用，因为发现问题和提出假设需要洞察力，提出方案需要创造力，这些能力并非仅仅看数字就能获得。\n",
    "\n",
    "虽然我们已经知道了取消试读功能会增加购买转化，但总觉得哪里有些不对劲。因为我们明知道用户看不懂，但是非要想办法卖给他们，这种行为显然是不可取的。我们希望用户来到该阅读APP，不仅仅是买书，而是能够真的看完一本英文书。我们的产品只有能够对用户的学习、工作、生活真正的产生价值，产品本身才能够具备长期的价值和口碑。\n",
    "\n",
    "既然我们已经明确用户看不懂英文是最主要的症结，那么我们就需要想办法帮助用户看懂。依据经验，阅读英文最大的障碍之一是生词，于是我们开发了一个阅读过程中可以对单词即点即查的功能，来解决用户所遇到的问题，提高用户付费转化率。"
   ]
  },
  {
   "cell_type": "code",
   "execution_count": null,
   "id": "f678603c",
   "metadata": {},
   "outputs": [],
   "source": []
  }
 ],
 "metadata": {
  "kernelspec": {
   "display_name": "Python 3",
   "language": "python",
   "name": "python3"
  },
  "language_info": {
   "codemirror_mode": {
    "name": "ipython",
    "version": 3
   },
   "file_extension": ".py",
   "mimetype": "text/x-python",
   "name": "python",
   "nbconvert_exporter": "python",
   "pygments_lexer": "ipython3",
   "version": "3.8.8"
  }
 },
 "nbformat": 4,
 "nbformat_minor": 5
}
